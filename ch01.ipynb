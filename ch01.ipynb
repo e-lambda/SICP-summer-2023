{
 "cells": [
  {
   "cell_type": "markdown",
   "id": "f8274fa3",
   "metadata": {},
   "source": [
    "This uses the Jupyter Racket kernel from https://github.com/rmculpepper/iracket."
   ]
  },
  {
   "cell_type": "code",
   "execution_count": 1,
   "id": "e0665f92",
   "metadata": {},
   "outputs": [],
   "source": [
    "#lang iracket/lang #:require sicp"
   ]
  },
  {
   "cell_type": "markdown",
   "id": "2ee93993",
   "metadata": {},
   "source": [
    "## Q1.1"
   ]
  },
  {
   "cell_type": "code",
   "execution_count": 2,
   "id": "bcdf384c",
   "metadata": {
    "scrolled": true
   },
   "outputs": [
    {
     "data": {
      "text/html": [
       "<code>10</code>"
      ],
      "text/plain": [
       "10"
      ]
     },
     "execution_count": 2,
     "metadata": {},
     "output_type": "execute_result"
    }
   ],
   "source": [
    "10\n",
    ";; 10"
   ]
  },
  {
   "cell_type": "code",
   "execution_count": 3,
   "id": "5d6ec60e",
   "metadata": {},
   "outputs": [
    {
     "data": {
      "text/html": [
       "<code>12</code>"
      ],
      "text/plain": [
       "12"
      ]
     },
     "execution_count": 3,
     "metadata": {},
     "output_type": "execute_result"
    }
   ],
   "source": [
    "(+ 5 3 4)\n",
    ";; 12"
   ]
  },
  {
   "cell_type": "code",
   "execution_count": 4,
   "id": "38016d6b",
   "metadata": {},
   "outputs": [
    {
     "data": {
      "text/html": [
       "<code>8</code>"
      ],
      "text/plain": [
       "8"
      ]
     },
     "execution_count": 4,
     "metadata": {},
     "output_type": "execute_result"
    }
   ],
   "source": [
    "(- 9 1)\n",
    ";; 8"
   ]
  },
  {
   "cell_type": "code",
   "execution_count": 5,
   "id": "fabe4b39",
   "metadata": {},
   "outputs": [
    {
     "data": {
      "text/html": [
       "<code>3</code>"
      ],
      "text/plain": [
       "3"
      ]
     },
     "execution_count": 5,
     "metadata": {},
     "output_type": "execute_result"
    }
   ],
   "source": [
    "(/ 6 2)\n",
    ";; 3"
   ]
  },
  {
   "cell_type": "code",
   "execution_count": 6,
   "id": "be9b2c11",
   "metadata": {},
   "outputs": [
    {
     "data": {
      "text/html": [
       "<code>6</code>"
      ],
      "text/plain": [
       "6"
      ]
     },
     "execution_count": 6,
     "metadata": {},
     "output_type": "execute_result"
    }
   ],
   "source": [
    "(+ (* 2 4) (- 4 6))\n",
    ";; 6"
   ]
  },
  {
   "cell_type": "code",
   "execution_count": 7,
   "id": "1e62541b",
   "metadata": {},
   "outputs": [
    {
     "data": {
      "text/html": [
       "<code>19</code>"
      ],
      "text/plain": [
       "19"
      ]
     },
     "execution_count": 7,
     "metadata": {},
     "output_type": "execute_result"
    }
   ],
   "source": [
    "(define a 3)\n",
    "(define b (+ a 1))\n",
    "(+ a b (* a b))\n",
    ";; 19"
   ]
  },
  {
   "cell_type": "code",
   "execution_count": 8,
   "id": "88fc353d",
   "metadata": {},
   "outputs": [
    {
     "data": {
      "text/html": [
       "<code>#f</code>"
      ],
      "text/plain": [
       "#f"
      ]
     },
     "execution_count": 8,
     "metadata": {},
     "output_type": "execute_result"
    }
   ],
   "source": [
    "(= a b)\n",
    ";; #f"
   ]
  },
  {
   "cell_type": "code",
   "execution_count": 9,
   "id": "07a88a20",
   "metadata": {},
   "outputs": [
    {
     "data": {
      "text/html": [
       "<code>4</code>"
      ],
      "text/plain": [
       "4"
      ]
     },
     "execution_count": 9,
     "metadata": {},
     "output_type": "execute_result"
    }
   ],
   "source": [
    "(if (and (> b a) (< b (* a b)))\n",
    "    b\n",
    "    a)\n",
    ";; 4"
   ]
  },
  {
   "cell_type": "code",
   "execution_count": 10,
   "id": "5cf20fb1",
   "metadata": {},
   "outputs": [
    {
     "data": {
      "text/html": [
       "<code>16</code>"
      ],
      "text/plain": [
       "16"
      ]
     },
     "execution_count": 10,
     "metadata": {},
     "output_type": "execute_result"
    }
   ],
   "source": [
    "(cond ((= a 4) 6)\n",
    "      ((= b 4) (+ 6 7 a))\n",
    "      (else 25))\n",
    ";; 16"
   ]
  },
  {
   "cell_type": "code",
   "execution_count": 11,
   "id": "4fde4771",
   "metadata": {},
   "outputs": [
    {
     "data": {
      "text/html": [
       "<code>6</code>"
      ],
      "text/plain": [
       "6"
      ]
     },
     "execution_count": 11,
     "metadata": {},
     "output_type": "execute_result"
    }
   ],
   "source": [
    "(+ 2 (if (> b a) b a))\n",
    ";; 6"
   ]
  },
  {
   "cell_type": "code",
   "execution_count": 12,
   "id": "847d2f9b",
   "metadata": {},
   "outputs": [
    {
     "data": {
      "text/html": [
       "<code>16</code>"
      ],
      "text/plain": [
       "16"
      ]
     },
     "execution_count": 12,
     "metadata": {},
     "output_type": "execute_result"
    }
   ],
   "source": [
    "(* (cond ((> a b) a)\n",
    "         ((< a b) b)\n",
    "         (else -1))\n",
    "   (+ a 1))\n",
    ";; 16"
   ]
  },
  {
   "cell_type": "markdown",
   "id": "74785eb0",
   "metadata": {},
   "source": [
    "## Q1.2"
   ]
  },
  {
   "cell_type": "code",
   "execution_count": 13,
   "id": "23b4ef8b",
   "metadata": {},
   "outputs": [
    {
     "data": {
      "text/html": [
       "<code>-37/150</code>"
      ],
      "text/plain": [
       "-37/150"
      ]
     },
     "execution_count": 13,
     "metadata": {},
     "output_type": "execute_result"
    }
   ],
   "source": [
    "(/ (+ 5 4 (- 2 (- 3 (+ 6 (/ 4 5)))))\n",
    "   (* 3 (- 6 2) (- 2 7)))"
   ]
  },
  {
   "cell_type": "markdown",
   "id": "33b1ede9",
   "metadata": {},
   "source": [
    "## Q1.3"
   ]
  },
  {
   "cell_type": "code",
   "execution_count": 14,
   "id": "f2656b46",
   "metadata": {},
   "outputs": [
    {
     "data": {
      "text/html": [
       "<code>25</code>"
      ],
      "text/plain": [
       "25"
      ]
     },
     "execution_count": 14,
     "metadata": {},
     "output_type": "execute_result"
    }
   ],
   "source": [
    "(define (sum s) (apply + s))\n",
    "(define (square x) (* x x))\n",
    "(define (sum-squared-largest a b c)\n",
    "    (define minval (min a b c))\n",
    "    (define vals (list a b c))\n",
    "    (- (sum (map square vals)) (* minval minval)))\n",
    "\n",
    "(sum-squared-largest 2 3 4)"
   ]
  },
  {
   "cell_type": "markdown",
   "id": "871aba9c",
   "metadata": {},
   "source": [
    "## Q1.4"
   ]
  },
  {
   "cell_type": "markdown",
   "id": "0774035c",
   "metadata": {},
   "source": [
    "```python\n",
    "# return a + |b|\n",
    "def a_plus_abs_b(a, b):\n",
    "    if b > 0:\n",
    "        return a + b\n",
    "    else:\n",
    "        return a - b\n",
    "```"
   ]
  },
  {
   "cell_type": "markdown",
   "id": "2e6d005e",
   "metadata": {},
   "source": [
    "## Q1.5"
   ]
  },
  {
   "cell_type": "markdown",
   "id": "ad1ef403",
   "metadata": {},
   "source": [
    "Applicative-order evaluation doesn't terminate. When we expand, we get\n",
    "```scheme\n",
    "(test 0 (p))\n",
    "(test 0 (p))\n",
    "...\n",
    "```\n",
    "since the interpreter keeps trying to reduce the recursive operand `(p)` first.\n",
    "\n",
    "\n",
    "Normal-order evaluation returns 0 since it short-circuits the recursive evaluation by reducing the operator first.\n",
    "```scheme\n",
    "(test 0 (p))\n",
    "(if (= 0 0) 0 (p))\n",
    "(if #t 0 (p))\n",
    "0\n",
    "```"
   ]
  },
  {
   "cell_type": "markdown",
   "id": "a053fa57-7688-4b14-b1d9-928ec44ce5fb",
   "metadata": {},
   "source": [
    "## Q1.6"
   ]
  },
  {
   "cell_type": "markdown",
   "id": "7539b567-d6fa-4408-8235-5855b931bd8d",
   "metadata": {},
   "source": [
    "Under the normal special form `if` statement, the predicate gets evaluated before the other arguments despite using applicative-order evaluation.\n",
    "```scheme\n",
    ";; Normal if\n",
    "(sqrt-iter 1 2)\n",
    "(if (good-enough? 1 2)\n",
    "    1\n",
    "    (sqrt-iter (improve 1 2) 2)))\n",
    "(if #f\n",
    "    1\n",
    "    (sqrt-iter (improve 1 2) 2)))\n",
    "(sqrt-iter (improve 1 2) 2)\n",
    "(sqrt-iter 1.5 2)\n",
    "...\n",
    "```\n",
    "\n",
    "New-if is instead treated as an ordinary procedure, so the `(sqrt-iter (improve guess x) x)` alternative gets infinitely expanded.\n",
    "```scheme\n",
    ";; New if\n",
    "(sqrt-iter 1 2)\n",
    "(new-if (good-enough? 1 2)\n",
    "    1\n",
    "    (sqrt-iter (improve 1 2) 2)))\n",
    "(new-if (good-enough? 1 2)\n",
    "    1\n",
    "    (sqrt-iter 1.5 2)))\n",
    "(new-if (good-enough? 1 2)\n",
    "    1\n",
    "    (new-if (good-enough? 1.5 2)\n",
    "        1.5\n",
    "        (sqrt-iter (improve 1.5 2) 2)))))\n",
    "...\n",
    "```"
   ]
  },
  {
   "cell_type": "markdown",
   "id": "351aebc1-5f8a-45fb-b744-2da4191ad4ab",
   "metadata": {},
   "source": [
    "## Q1.7"
   ]
  },
  {
   "cell_type": "markdown",
   "id": "3aba44f0-1bba-4af7-bff6-115bd8c43850",
   "metadata": {},
   "source": [
    "`sqrt(0.0001)` is evaluated as 0.0323, significantly off from the its true value of 0.01. Here the tolerance of 0.001 is too high.\\\n",
    "`sqrt(1e13)` does not terminate because the improve step runs out of precision to improve while the difference remains above 0.001."
   ]
  },
  {
   "cell_type": "code",
   "execution_count": 15,
   "id": "a12546ed",
   "metadata": {},
   "outputs": [
    {
     "name": "stdout",
     "output_type": "stream",
     "text": [
      "0.03230844833048122\n"
     ]
    }
   ],
   "source": [
    "(define (average x y) (/ (+ x y) 2))\n",
    "(define (square x) (* x x))\n",
    "(define (improve guess x) (average guess (/ x guess)))\n",
    "(define (good-enough? guess x) (< (abs (- (square guess) x)) 0.001))\n",
    "(define (sqrt-iter guess x)\n",
    "  (if (good-enough? guess x)\n",
    "      guess\n",
    "      (sqrt-iter (improve guess x) x)))\n",
    "(define (sqrt x) (sqrt-iter 1.0 x))\n",
    "(display (sqrt 0.0001)) (newline)"
   ]
  },
  {
   "cell_type": "code",
   "execution_count": 16,
   "id": "630ebd33-29cf-4b66-9953-83ddc12bc64e",
   "metadata": {},
   "outputs": [
    {
     "name": "stdout",
     "output_type": "stream",
     "text": [
      "1.0 9999999999999.0\n",
      "5000000000000.5 2.4999999999995e+25\n",
      "2500000000001.25 6.24999999999625e+24\n",
      "1250000000002.625 1.5624999999965625e+24\n",
      "625000000005.3125 3.906249999966406e+23\n",
      "312500000010.65625 9.765624999666016e+22\n",
      "156250000021.32813 2.441406249666504e+22\n",
      "78125000042.66406 6.103515621666259e+21\n",
      "39062500085.33203 1.525878902916565e+21\n",
      "19531250170.666016 3.814697232291413e+20\n",
      "9765625341.333006 9.536742830728538e+19\n",
      "4882813182.666485 2.384185457682161e+19\n",
      "2441407615.3330994 5960461144206451000.0\n",
      "1220705855.6654043 1490112786055807000.0\n",
      "610357023.8235396 372525696530728900.0\n",
      "305186703.8384698 93128924199789870.0\n",
      "152609735.33285388 23279731318363710.0\n",
      "76337630.97598314 5817433903025381.0\n",
      "38234313.983767174 1451862765809294.0\n",
      "19247929.57491261 360482792920795.56\n",
      "9883732.98644831 87688177747406.44\n",
      "5447748.229088079 19677960767532.305\n",
      "3641684.517987917 3261866128552.8887\n",
      "3193833.2403111905 200570766916.67773\n",
      "3162433.547242504 985940724.8066406\n",
      "3162277.6640104805 24299.58203125\n",
      "3162277.6601683795 0.001953125\n",
      "3162277.6601683795\n"
     ]
    }
   ],
   "source": [
    "(define (average x y) (/ (+ x y) 2))\n",
    "(define (square x) (* x x))\n",
    "(define (improve guess x) (average guess (/ x guess)))\n",
    "(define (good-enough? guess x) (and\n",
    "        (display guess)\n",
    "        (display \" \")\n",
    "        (display (abs (- (square guess) x))) (newline)\n",
    "        (= guess (improve guess x))))\n",
    "(define (sqrt-iter guess x)\n",
    "  (if (good-enough? guess x)\n",
    "      guess\n",
    "      (sqrt-iter (improve guess x) x)))\n",
    "(define (sqrt x) (sqrt-iter 1.0 x))\n",
    "(display (sqrt 1e13)) (newline)"
   ]
  },
  {
   "cell_type": "markdown",
   "id": "c634e0a6-9a30-4b68-b5a7-1b855639aa4b",
   "metadata": {},
   "source": [
    "Stopping when the guess's change becomes relatively small helps in both cases."
   ]
  },
  {
   "cell_type": "code",
   "execution_count": 17,
   "id": "9bd951b0-116f-4d1d-88d7-5173de6aae91",
   "metadata": {},
   "outputs": [
    {
     "name": "stdout",
     "output_type": "stream",
     "text": [
      "0.010000714038711746\n",
      "3162433.547242504\n"
     ]
    }
   ],
   "source": [
    "(define (average x y) (/ (+ x y) 2))\n",
    "(define (square x) (* x x))\n",
    "(define (improve guess x) (average guess (/ x guess)))\n",
    "(define (good-enough? guess x) (\n",
    "        < (abs (- guess (improve guess x))) (* 0.001 guess)))\n",
    "(define (sqrt-iter guess x)\n",
    "  (if (good-enough? guess x)\n",
    "      guess\n",
    "      (sqrt-iter (improve guess x) x)))\n",
    "(define (sqrt x) (sqrt-iter 1.0 x))\n",
    "(display (sqrt 0.0001)) (newline)\n",
    "(display (sqrt 1e13)) (newline)"
   ]
  },
  {
   "cell_type": "markdown",
   "id": "b4de0896-0d69-48a1-874f-bb87d0b9cc4a",
   "metadata": {},
   "source": [
    "## Q1.8"
   ]
  },
  {
   "cell_type": "code",
   "execution_count": 18,
   "id": "96750792-6661-4b0f-8dc2-dbc1492b4cba",
   "metadata": {},
   "outputs": [
    {
     "name": "stdout",
     "output_type": "stream",
     "text": [
      "0.10001409266436927\n",
      "10001.829838573718\n",
      "21545.34186023313\n"
     ]
    }
   ],
   "source": [
    "(define (average x y) (/ (+ x y) 2))\n",
    "(define (square x) (* x x))\n",
    "(define (improve guess x) (/ (+ (/ x (square guess)) (* 2 guess)) 3))\n",
    "(define (good-enough? guess x) (\n",
    "        < (abs (- guess (improve guess x))) (* 0.001 guess)))\n",
    "(define (cubrt-iter guess x)\n",
    "  (if (good-enough? guess x)\n",
    "      guess\n",
    "      (cubrt-iter (improve guess x) x)))\n",
    "(define (cubrt x) (cubrt-iter 1.0 x))\n",
    "(display (cubrt 0.001)) (newline)\n",
    "(display (cubrt 1e12)) (newline)\n",
    "(display (cubrt 1e13)) (newline)"
   ]
  }
 ],
 "metadata": {
  "kernelspec": {
   "display_name": "Racket",
   "language": "racket",
   "name": "racket"
  },
  "language_info": {
   "codemirror_mode": "scheme",
   "file_extension": ".rkt",
   "mimetype": "text/x-racket",
   "name": "Racket",
   "pygments_lexer": "racket",
   "version": "8.9"
  }
 },
 "nbformat": 4,
 "nbformat_minor": 5
}
