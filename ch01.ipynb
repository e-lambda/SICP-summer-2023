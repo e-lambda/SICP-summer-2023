{
 "cells": [
  {
   "cell_type": "markdown",
   "id": "f8274fa3",
   "metadata": {},
   "source": [
    "This uses the Jupyter Racket kernel from https://github.com/rmculpepper/iracket."
   ]
  },
  {
   "cell_type": "code",
   "execution_count": 1,
   "id": "e0665f92",
   "metadata": {},
   "outputs": [],
   "source": [
    "#lang iracket/lang #:require sicp"
   ]
  },
  {
   "cell_type": "markdown",
   "id": "2ee93993",
   "metadata": {
    "tags": []
   },
   "source": [
    "## Q1.1"
   ]
  },
  {
   "cell_type": "code",
   "execution_count": 2,
   "id": "bcdf384c",
   "metadata": {
    "scrolled": true
   },
   "outputs": [
    {
     "data": {
      "text/html": [
       "<code>10</code>"
      ],
      "text/plain": [
       "10"
      ]
     },
     "execution_count": 2,
     "metadata": {},
     "output_type": "execute_result"
    }
   ],
   "source": [
    "10\n",
    ";; 10"
   ]
  },
  {
   "cell_type": "code",
   "execution_count": 3,
   "id": "5d6ec60e",
   "metadata": {},
   "outputs": [
    {
     "data": {
      "text/html": [
       "<code>12</code>"
      ],
      "text/plain": [
       "12"
      ]
     },
     "execution_count": 3,
     "metadata": {},
     "output_type": "execute_result"
    }
   ],
   "source": [
    "(+ 5 3 4)\n",
    ";; 12"
   ]
  },
  {
   "cell_type": "code",
   "execution_count": 4,
   "id": "38016d6b",
   "metadata": {},
   "outputs": [
    {
     "data": {
      "text/html": [
       "<code>8</code>"
      ],
      "text/plain": [
       "8"
      ]
     },
     "execution_count": 4,
     "metadata": {},
     "output_type": "execute_result"
    }
   ],
   "source": [
    "(- 9 1)\n",
    ";; 8"
   ]
  },
  {
   "cell_type": "code",
   "execution_count": 5,
   "id": "fabe4b39",
   "metadata": {},
   "outputs": [
    {
     "data": {
      "text/html": [
       "<code>3</code>"
      ],
      "text/plain": [
       "3"
      ]
     },
     "execution_count": 5,
     "metadata": {},
     "output_type": "execute_result"
    }
   ],
   "source": [
    "(/ 6 2)\n",
    ";; 3"
   ]
  },
  {
   "cell_type": "code",
   "execution_count": 6,
   "id": "be9b2c11",
   "metadata": {},
   "outputs": [
    {
     "data": {
      "text/html": [
       "<code>6</code>"
      ],
      "text/plain": [
       "6"
      ]
     },
     "execution_count": 6,
     "metadata": {},
     "output_type": "execute_result"
    }
   ],
   "source": [
    "(+ (* 2 4) (- 4 6))\n",
    ";; 6"
   ]
  },
  {
   "cell_type": "code",
   "execution_count": 7,
   "id": "1e62541b",
   "metadata": {},
   "outputs": [
    {
     "data": {
      "text/html": [
       "<code>19</code>"
      ],
      "text/plain": [
       "19"
      ]
     },
     "execution_count": 7,
     "metadata": {},
     "output_type": "execute_result"
    }
   ],
   "source": [
    "(define a 3)\n",
    "(define b (+ a 1))\n",
    "(+ a b (* a b))\n",
    ";; 19"
   ]
  },
  {
   "cell_type": "code",
   "execution_count": 8,
   "id": "88fc353d",
   "metadata": {},
   "outputs": [
    {
     "data": {
      "text/html": [
       "<code>#f</code>"
      ],
      "text/plain": [
       "#f"
      ]
     },
     "execution_count": 8,
     "metadata": {},
     "output_type": "execute_result"
    }
   ],
   "source": [
    "(= a b)\n",
    ";; #f"
   ]
  },
  {
   "cell_type": "code",
   "execution_count": 9,
   "id": "07a88a20",
   "metadata": {},
   "outputs": [
    {
     "data": {
      "text/html": [
       "<code>4</code>"
      ],
      "text/plain": [
       "4"
      ]
     },
     "execution_count": 9,
     "metadata": {},
     "output_type": "execute_result"
    }
   ],
   "source": [
    "(if (and (> b a) (< b (* a b)))\n",
    "    b\n",
    "    a)\n",
    ";; 4"
   ]
  },
  {
   "cell_type": "code",
   "execution_count": 10,
   "id": "5cf20fb1",
   "metadata": {},
   "outputs": [
    {
     "data": {
      "text/html": [
       "<code>16</code>"
      ],
      "text/plain": [
       "16"
      ]
     },
     "execution_count": 10,
     "metadata": {},
     "output_type": "execute_result"
    }
   ],
   "source": [
    "(cond ((= a 4) 6)\n",
    "      ((= b 4) (+ 6 7 a))\n",
    "      (else 25))\n",
    ";; 16"
   ]
  },
  {
   "cell_type": "code",
   "execution_count": 11,
   "id": "4fde4771",
   "metadata": {},
   "outputs": [
    {
     "data": {
      "text/html": [
       "<code>6</code>"
      ],
      "text/plain": [
       "6"
      ]
     },
     "execution_count": 11,
     "metadata": {},
     "output_type": "execute_result"
    }
   ],
   "source": [
    "(+ 2 (if (> b a) b a))\n",
    ";; 6"
   ]
  },
  {
   "cell_type": "code",
   "execution_count": 12,
   "id": "847d2f9b",
   "metadata": {},
   "outputs": [
    {
     "data": {
      "text/html": [
       "<code>16</code>"
      ],
      "text/plain": [
       "16"
      ]
     },
     "execution_count": 12,
     "metadata": {},
     "output_type": "execute_result"
    }
   ],
   "source": [
    "(* (cond ((> a b) a)\n",
    "         ((< a b) b)\n",
    "         (else -1))\n",
    "   (+ a 1))\n",
    ";; 16"
   ]
  },
  {
   "cell_type": "markdown",
   "id": "74785eb0",
   "metadata": {},
   "source": [
    "## Q1.2"
   ]
  },
  {
   "cell_type": "code",
   "execution_count": 13,
   "id": "23b4ef8b",
   "metadata": {},
   "outputs": [
    {
     "data": {
      "text/html": [
       "<code>-37/150</code>"
      ],
      "text/plain": [
       "-37/150"
      ]
     },
     "execution_count": 13,
     "metadata": {},
     "output_type": "execute_result"
    }
   ],
   "source": [
    "(/ (+ 5 4 (- 2 (- 3 (+ 6 (/ 4 5)))))\n",
    "   (* 3 (- 6 2) (- 2 7)))"
   ]
  },
  {
   "cell_type": "markdown",
   "id": "33b1ede9",
   "metadata": {},
   "source": [
    "## Q1.3"
   ]
  },
  {
   "cell_type": "code",
   "execution_count": 14,
   "id": "f2656b46",
   "metadata": {},
   "outputs": [
    {
     "data": {
      "text/html": [
       "<code>25</code>"
      ],
      "text/plain": [
       "25"
      ]
     },
     "execution_count": 14,
     "metadata": {},
     "output_type": "execute_result"
    }
   ],
   "source": [
    "(define (sum s) (apply + s))\n",
    "(define (square x) (* x x))\n",
    "(define (sum-squared-largest a b c)\n",
    "    (define minval (min a b c))\n",
    "    (define vals (list a b c))\n",
    "    (- (sum (map square vals)) (* minval minval)))\n",
    "\n",
    "(sum-squared-largest 2 3 4)"
   ]
  },
  {
   "cell_type": "markdown",
   "id": "871aba9c",
   "metadata": {},
   "source": [
    "## Q1.4"
   ]
  },
  {
   "cell_type": "markdown",
   "id": "0774035c",
   "metadata": {},
   "source": [
    "```python\n",
    "# return a + |b|\n",
    "def a_plus_abs_b(a, b):\n",
    "    if b > 0:\n",
    "        return a + b\n",
    "    else:\n",
    "        return a - b\n",
    "```"
   ]
  },
  {
   "cell_type": "markdown",
   "id": "2e6d005e",
   "metadata": {},
   "source": [
    "## Q1.5"
   ]
  },
  {
   "cell_type": "markdown",
   "id": "ad1ef403",
   "metadata": {},
   "source": [
    "Applicative-order evaluation doesn't terminate. When we expand, we get\n",
    "```scheme\n",
    "(test 0 (p))\n",
    "(test 0 (p))\n",
    "...\n",
    "```\n",
    "since the interpreter keeps trying to reduce the recursive operand `(p)` first.\n",
    "\n",
    "\n",
    "Normal-order evaluation returns 0 since it short-circuits the recursive evaluation by reducing the operator first.\n",
    "```scheme\n",
    "(test 0 (p))\n",
    "(if (= 0 0) 0 (p))\n",
    "(if #t 0 (p))\n",
    "0\n",
    "```"
   ]
  },
  {
   "cell_type": "markdown",
   "id": "a053fa57-7688-4b14-b1d9-928ec44ce5fb",
   "metadata": {},
   "source": [
    "## Q1.6"
   ]
  },
  {
   "cell_type": "markdown",
   "id": "7539b567-d6fa-4408-8235-5855b931bd8d",
   "metadata": {},
   "source": [
    "Under the normal special form `if` statement, the predicate gets evaluated before the other arguments despite using applicative-order evaluation.\n",
    "```scheme\n",
    ";; Normal if\n",
    "(sqrt-iter 1 2)\n",
    "(if (good-enough? 1 2)\n",
    "    1\n",
    "    (sqrt-iter (improve 1 2) 2)))\n",
    "(if #f\n",
    "    1\n",
    "    (sqrt-iter (improve 1 2) 2)))\n",
    "(sqrt-iter (improve 1 2) 2)\n",
    "(sqrt-iter 1.5 2)\n",
    "...\n",
    "```\n",
    "\n",
    "New-if is instead treated as an ordinary procedure, so the `(sqrt-iter (improve guess x) x)` alternative gets infinitely expanded.\n",
    "```scheme\n",
    ";; New if\n",
    "(sqrt-iter 1 2)\n",
    "(new-if (good-enough? 1 2)\n",
    "    1\n",
    "    (sqrt-iter (improve 1 2) 2)))\n",
    "(new-if (good-enough? 1 2)\n",
    "    1\n",
    "    (sqrt-iter 1.5 2)))\n",
    "(new-if (good-enough? 1 2)\n",
    "    1\n",
    "    (new-if (good-enough? 1.5 2)\n",
    "        1.5\n",
    "        (sqrt-iter (improve 1.5 2) 2)))))\n",
    "...\n",
    "```"
   ]
  },
  {
   "cell_type": "markdown",
   "id": "351aebc1-5f8a-45fb-b744-2da4191ad4ab",
   "metadata": {},
   "source": [
    "## Q1.7"
   ]
  },
  {
   "cell_type": "markdown",
   "id": "3aba44f0-1bba-4af7-bff6-115bd8c43850",
   "metadata": {},
   "source": [
    "`sqrt(0.0001)` is evaluated as 0.0323, significantly off from the its true value of 0.01. Here the tolerance of 0.001 is too high.\\\n",
    "`sqrt(1e13)` does not terminate because the improve step runs out of precision to improve while the difference remains above 0.001."
   ]
  },
  {
   "cell_type": "code",
   "execution_count": 15,
   "id": "a12546ed",
   "metadata": {},
   "outputs": [
    {
     "name": "stdout",
     "output_type": "stream",
     "text": [
      "0.03230844833048122\n"
     ]
    }
   ],
   "source": [
    "(define (average x y) (/ (+ x y) 2))\n",
    "(define (square x) (* x x))\n",
    "(define (improve guess x) (average guess (/ x guess)))\n",
    "(define (good-enough? guess x) (< (abs (- (square guess) x)) 0.001))\n",
    "(define (sqrt-iter guess x)\n",
    "  (if (good-enough? guess x)\n",
    "      guess\n",
    "      (sqrt-iter (improve guess x) x)))\n",
    "(define (sqrt x) (sqrt-iter 1.0 x))\n",
    "(display (sqrt 0.0001)) (newline)"
   ]
  },
  {
   "cell_type": "code",
   "execution_count": 16,
   "id": "630ebd33-29cf-4b66-9953-83ddc12bc64e",
   "metadata": {},
   "outputs": [
    {
     "name": "stdout",
     "output_type": "stream",
     "text": [
      "1.0 9999999999999.0\n",
      "5000000000000.5 2.4999999999995e+25\n",
      "2500000000001.25 6.24999999999625e+24\n",
      "1250000000002.625 1.5624999999965625e+24\n",
      "625000000005.3125 3.906249999966406e+23\n",
      "312500000010.65625 9.765624999666016e+22\n",
      "156250000021.32813 2.441406249666504e+22\n",
      "78125000042.66406 6.103515621666259e+21\n",
      "39062500085.33203 1.525878902916565e+21\n",
      "19531250170.666016 3.814697232291413e+20\n",
      "9765625341.333006 9.536742830728538e+19\n",
      "4882813182.666485 2.384185457682161e+19\n",
      "2441407615.3330994 5960461144206451000.0\n",
      "1220705855.6654043 1490112786055807000.0\n",
      "610357023.8235396 372525696530728900.0\n",
      "305186703.8384698 93128924199789870.0\n",
      "152609735.33285388 23279731318363710.0\n",
      "76337630.97598314 5817433903025381.0\n",
      "38234313.983767174 1451862765809294.0\n",
      "19247929.57491261 360482792920795.56\n",
      "9883732.98644831 87688177747406.44\n",
      "5447748.229088079 19677960767532.305\n",
      "3641684.517987917 3261866128552.8887\n",
      "3193833.2403111905 200570766916.67773\n",
      "3162433.547242504 985940724.8066406\n",
      "3162277.6640104805 24299.58203125\n",
      "3162277.6601683795 0.001953125\n",
      "3162277.6601683795\n"
     ]
    }
   ],
   "source": [
    "(define (average x y) (/ (+ x y) 2))\n",
    "(define (square x) (* x x))\n",
    "(define (improve guess x) (average guess (/ x guess)))\n",
    "(define (good-enough? guess x) (and\n",
    "        (display guess)\n",
    "        (display \" \")\n",
    "        (display (abs (- (square guess) x))) (newline)\n",
    "        (= guess (improve guess x))))\n",
    "(define (sqrt-iter guess x)\n",
    "  (if (good-enough? guess x)\n",
    "      guess\n",
    "      (sqrt-iter (improve guess x) x)))\n",
    "(define (sqrt x) (sqrt-iter 1.0 x))\n",
    "(display (sqrt 1e13)) (newline)"
   ]
  },
  {
   "cell_type": "markdown",
   "id": "c634e0a6-9a30-4b68-b5a7-1b855639aa4b",
   "metadata": {},
   "source": [
    "Stopping when the guess's change becomes relatively small helps in both cases."
   ]
  },
  {
   "cell_type": "code",
   "execution_count": 17,
   "id": "9bd951b0-116f-4d1d-88d7-5173de6aae91",
   "metadata": {},
   "outputs": [
    {
     "name": "stdout",
     "output_type": "stream",
     "text": [
      "0.010000714038711746\n",
      "3162433.547242504\n"
     ]
    }
   ],
   "source": [
    "(define (average x y) (/ (+ x y) 2))\n",
    "(define (square x) (* x x))\n",
    "(define (improve guess x) (average guess (/ x guess)))\n",
    "(define (good-enough? guess x) (\n",
    "        < (abs (- guess (improve guess x))) (* 0.001 guess)))\n",
    "(define (sqrt-iter guess x)\n",
    "  (if (good-enough? guess x)\n",
    "      guess\n",
    "      (sqrt-iter (improve guess x) x)))\n",
    "(define (sqrt x) (sqrt-iter 1.0 x))\n",
    "(display (sqrt 0.0001)) (newline)\n",
    "(display (sqrt 1e13)) (newline)"
   ]
  },
  {
   "cell_type": "markdown",
   "id": "b4de0896-0d69-48a1-874f-bb87d0b9cc4a",
   "metadata": {},
   "source": [
    "## Q1.8"
   ]
  },
  {
   "cell_type": "code",
   "execution_count": 18,
   "id": "96750792-6661-4b0f-8dc2-dbc1492b4cba",
   "metadata": {},
   "outputs": [
    {
     "name": "stdout",
     "output_type": "stream",
     "text": [
      "0.10001409266436927\n",
      "10001.829838573718\n",
      "21545.34186023313\n"
     ]
    }
   ],
   "source": [
    "(define (average x y) (/ (+ x y) 2))\n",
    "(define (square x) (* x x))\n",
    "(define (improve guess x) (/ (+ (/ x (square guess)) (* 2 guess)) 3))\n",
    "(define (good-enough? guess x) (\n",
    "        < (abs (- guess (improve guess x))) (* 0.001 guess)))\n",
    "(define (cubrt-iter guess x)\n",
    "  (if (good-enough? guess x)\n",
    "      guess\n",
    "      (cubrt-iter (improve guess x) x)))\n",
    "(define (cubrt x) (cubrt-iter 1.0 x))\n",
    "(display (cubrt 0.001)) (newline)\n",
    "(display (cubrt 1e12)) (newline)\n",
    "(display (cubrt 1e13)) (newline)"
   ]
  },
  {
   "cell_type": "markdown",
   "id": "cb96ec14-bc0e-4604-9999-7ed07d49a111",
   "metadata": {},
   "source": [
    "## Q1.9"
   ]
  },
  {
   "cell_type": "markdown",
   "id": "063f7659-a9c4-4636-9452-dfeb2f84b248",
   "metadata": {},
   "source": [
    "The first procedure generates a recursive process.\n",
    "```scheme\n",
    "(define (+ a b)\n",
    "    (if (= a 0) b (inc (+ (dec a) b))))\n",
    "(+ 4 5)\n",
    "(if (= 4 0) 5 (inc (+ (dec 4) 5)))\n",
    "(if #f 5 (inc (+ (dec 4) 5)))\n",
    "(inc (+ (dec 4) 5))\n",
    "(inc (+ 3 5))\n",
    "(inc (if (= 3 0) 5 (inc (+ (dec 3) 5))))\n",
    "(inc (inc (+ (dec 3) 5)))\n",
    "(inc (inc (+ 2 5)))\n",
    "...\n",
    "(inc (inc (inc (inc (+ 0 5)))))\n",
    "(inc (inc (inc (inc 5))))\n",
    "...\n",
    "9\n",
    "```\n",
    "\n",
    "The second procedure generates an iterative process.\n",
    "```scheme\n",
    "(define (+ a b)\n",
    "    (if (= a 0) b (+ (dec a) (inc b))))\n",
    "(+ 4 5)\n",
    "(if (= 4 0) 5 (+ (dec 4) (inc 5)))\n",
    "(if #f 5 (+ (dec 4) (inc 5)))\n",
    "(+ (dec 4) (inc 5))\n",
    "(+ 3 6)\n",
    "(if (= 3 0) 6 (+ (dec 3) (inc 6)))\n",
    "(+ (dec 3) (inc 6))\n",
    "(+ 2 7)\n",
    "...\n",
    "(+ 0 9)\n",
    "9\n",
    "```"
   ]
  },
  {
   "cell_type": "markdown",
   "id": "4aa881f9-7b9e-4ce3-83a5-245316a832a8",
   "metadata": {},
   "source": [
    "## Q1.10"
   ]
  },
  {
   "cell_type": "code",
   "execution_count": 19,
   "id": "40cfb3e8-b0bb-408b-85a9-c8ba9e0d92d0",
   "metadata": {},
   "outputs": [
    {
     "name": "stdout",
     "output_type": "stream",
     "text": [
      "1024\n",
      "65536\n",
      "65536\n"
     ]
    }
   ],
   "source": [
    "(define (A x y) (cond ((= y 0) 0)\n",
    "    ((= x 0) (* 2 y))\n",
    "    ((= y 1) 2)\n",
    "    (else (A (- x 1) (A x (- y 1))))))\n",
    "\n",
    "#|\n",
    "A(0, 0) = 0\n",
    "A(1, 0) = 0\n",
    "A(2, 0) = 0\n",
    "A(3, 0) = 0\n",
    "A(0, 1) = 2\n",
    "A(0, 2) = 4\n",
    "A(0, 3) = 6\n",
    "A(1, 1) = 2\n",
    "A(1, 2) = A(0, A(1, 1)) = A(0, 2) = 4\n",
    "A(1, 3) = A(0, A(1, 2)) = A(0, 4) = 8\n",
    "A(1, 10) = A(0, A(1, 9)) = A(0, 2^9) = 2^10 = 1024\n",
    "A(2, 1) = 2\n",
    "A(2, 2) = A(1, A(2, 1)) = A(1, 2) = 4\n",
    "A(2, 3) = A(1, A(2, 2)) = A(1, 4) = 16\n",
    "A(2, 4) = A(1, A(2, 3)) = A(1, 16) = 2^16 = 65536\n",
    "A(3, 1) = 2\n",
    "A(3, 2) = A(2, A(3, 1)) = A(2, 2) = 4\n",
    "A(3, 3) = A(2, A(3, 2)) = A(2, 4) = 65536\n",
    "|#\n",
    "\n",
    "(display (A 1 10)) (newline) ; 1024\n",
    "(display (A 2 4)) (newline) ; 65536\n",
    "(display (A 3 3)) (newline) ; 65536"
   ]
  },
  {
   "cell_type": "code",
   "execution_count": 20,
   "id": "cee844db-2d5e-4d3f-b700-0e606eeca564",
   "metadata": {},
   "outputs": [
    {
     "name": "stdout",
     "output_type": "stream",
     "text": [
      "200\n",
      "32\n",
      "65536\n"
     ]
    }
   ],
   "source": [
    "(define (f n) (A 0 n))\n",
    ";; f(n) = 2n\n",
    "(display (f 100)) (newline) ; 200\n",
    "\n",
    "(define (g n) (A 1 n))\n",
    ";; g(n) = 2^n\n",
    "(display (g 5)) (newline) ; 32\n",
    "\n",
    "(define (h n) (A 2 n))\n",
    ";; h(n) = 2^^n\n",
    "(display (h 4)) (newline) ; 65536\n",
    "\n",
    "(define (k n) (* 5 n n))"
   ]
  },
  {
   "cell_type": "markdown",
   "id": "b61bfb14-6332-4b99-ad10-78b79174da26",
   "metadata": {},
   "source": [
    "## Q1.11"
   ]
  },
  {
   "cell_type": "code",
   "execution_count": 21,
   "id": "d5ac9514-35c1-447b-aac3-e95430165237",
   "metadata": {},
   "outputs": [
    {
     "data": {
      "text/html": [
       "<code>25</code>"
      ],
      "text/plain": [
       "25"
      ]
     },
     "execution_count": 21,
     "metadata": {},
     "output_type": "execute_result"
    }
   ],
   "source": [
    ";; recursive since multiple terms expand in the else-case\n",
    "(define (f n)\n",
    "  (if (< n 3)\n",
    "      n\n",
    "      (+ (f (- n 1)) (* 2 (f (- n 2))) (* 3 (f (- n 3))))))\n",
    "\n",
    ";; f(5) = f(4)+2f(3)+3f(2) = 3f(3)+5f(2)+3f(1) = 8f(2)+9f(1)+9f(0) = 16+9 = 25\n",
    "(f 5)"
   ]
  },
  {
   "cell_type": "code",
   "execution_count": 22,
   "id": "7eafe976-c19f-495c-802a-2a9f03633cc2",
   "metadata": {},
   "outputs": [
    {
     "data": {
      "text/html": [
       "<code>25</code>"
      ],
      "text/plain": [
       "25"
      ]
     },
     "execution_count": 22,
     "metadata": {},
     "output_type": "execute_result"
    }
   ],
   "source": [
    ";; iterative\n",
    "(define (f n)\n",
    "    ;; (fi n a b c) computes a*f(n-1) + b*f(n-2) + c*f(n-3)\n",
    "    (define (fi n a b c)\n",
    "        (if (= n 3)\n",
    "            (+ (* a 2) (* b 1) (* c 0)) \n",
    "            (fi (- n 1) (+ b a) (+ c (* 2 a)) (* 3 a)))) \n",
    "    (if (< n 3)\n",
    "        n\n",
    "        (fi n 1 2 3)))\n",
    "(f 5)"
   ]
  },
  {
   "cell_type": "markdown",
   "id": "ee684e4d-a066-4e68-8979-77f9df4ffeb1",
   "metadata": {},
   "source": [
    "## Q1.12"
   ]
  },
  {
   "cell_type": "code",
   "execution_count": 23,
   "id": "26a71dd7-4eba-4d53-9545-17755e03611a",
   "metadata": {},
   "outputs": [
    {
     "name": "stdout",
     "output_type": "stream",
     "text": [
      "1\n",
      "0\n",
      "6\n",
      "10\n"
     ]
    }
   ],
   "source": [
    ";; 0-indexed\n",
    "(define (pascal n k)\n",
    "  (cond ((or (< n 0) (< k 0) (< n k)) 0)\n",
    "        ((= k 0) 1)\n",
    "        ((= k n) 1)\n",
    "        (else (+ (pascal (- n 1) (- k 1))\n",
    "                 (pascal (- n 1) k)))))\n",
    "\n",
    "(display (pascal 0 0)) (newline)\n",
    "(display (pascal 3 5)) (newline)\n",
    "(display (pascal 4 2)) (newline)\n",
    "(display (pascal 5 3)) (newline)"
   ]
  },
  {
   "cell_type": "markdown",
   "id": "ded290de-fb8a-45d3-83ac-5004d0c9a3dd",
   "metadata": {},
   "source": [
    "## Q1.13"
   ]
  },
  {
   "cell_type": "markdown",
   "id": "58df801d-b962-44dc-86e6-b326c145d393",
   "metadata": {},
   "source": [
    "Let $\\phi = (1+\\sqrt{5})/2$ and $\\psi = (1-\\sqrt{5})/2$.\n",
    "\n",
    "Base cases: $\\text{Fib}(0) = (\\phi^0-\\psi^0)/\\sqrt{5} = 0$, $\\text{Fib}(1) = (\\phi^1-\\psi^1)/\\sqrt{5} = 1$.\n",
    "\n",
    "Suppose $\\text{Fib}(i) = (\\phi^i-\\psi^i)/\\sqrt{5}$ for all $0 \\le i \\le k$.\n",
    "\n",
    "Then starting with the desired formula for $\\text{Fib}(k+1)$,\n",
    "$$\n",
    "\\begin{align}\n",
    "(\\phi^{k+1}-\\psi^{k+1})/\\sqrt{5}\n",
    "&= \\frac{1}{\\sqrt{5}} \\left(\\phi^{k} + \\phi^{k}(\\phi-1) - \\psi^{k} - \\psi^{k}(\\psi-1)\\right) \\\\\n",
    "&= \\frac{1}{\\sqrt{5}} \\left(\\phi^{k} + \\phi^{k-1}\\phi(\\phi-1) - \\psi^{k} - \\psi^{k-1}\\psi(\\psi-1)\\right) \\\\\n",
    "\\end{align}\n",
    "$$.\n",
    "\n",
    "Note that\n",
    "$\\phi(\\phi-1) = \\left(\\frac{1+\\sqrt{5}}{2}\\right) \\left(\\frac{-1+\\sqrt{5}}{2}\\right) = \\frac{5-1}{4} = 1$\n",
    "and\n",
    "$\\psi(\\psi-1) = \\left(\\frac{1-\\sqrt{5}}{2}\\right) \\left(\\frac{-1-\\sqrt{5}}{2}\\right) = \\frac{5-1}{4} = 1$.\n",
    "\n",
    "Thus the above expression simplies to\n",
    "$(\\phi^{k+1}-\\psi^{k+1})/\\sqrt{5} = \\frac{1}{\\sqrt{5}} \\left(\\phi^{k} + \\phi^{k-1} - \\psi^{k} - \\psi^{k-1}\\right) = \\text{Fib}(k) + \\text{Fib}(k-1) = \\text{Fib}(k+1)$\n",
    "as desired.\n",
    "\n",
    "Now we need to show that $\\text{Fib}(n) = (\\phi^n-\\psi^n)/\\sqrt{5}$ is the closest integer to $\\phi^n/\\sqrt{5}$.\n",
    "\n",
    "Since $\\text{Fib}(n)$ is an integer, this would only be untrue if $|\\psi^n/\\sqrt{5}| > \\frac{1}{2}$ or $|\\psi^n| > \\frac{\\sqrt{5}}{2}$.\n",
    "\n",
    "We note that $|\\psi| < 1$ and thus $|\\psi^n| < 1 < \\frac{\\sqrt{5}}{2}$."
   ]
  },
  {
   "cell_type": "markdown",
   "id": "19c2ea99-1e6e-4a0a-a7fd-1924dcd2e199",
   "metadata": {},
   "source": [
    "## Q1.14"
   ]
  },
  {
   "cell_type": "markdown",
   "id": "926a5db5-4206-44a4-bdf3-563f19f7bcb3",
   "metadata": {},
   "source": [
    "```scheme\n",
    "(count-change 11)\n",
    "(cc 11 5)\n",
    "(+ (cc 11 4) (cc -39 5))\n",
    "(+ (+ (cc 11 3) (cc -14 4)) (cc -39 5))\n",
    "(+ (+ (+ (cc 11 2) (cc 1 3)) (cc -14 4)) (cc -39 5))\n",
    "(+ (+ (+ (+ (cc 11 1) (cc 6 2)) (cc 1 3)) (cc -14 4)) (cc -39 5))\n",
    "(+ (+ (+ (+ (+ (cc 11 0) (cc 10 1)) (cc 6 2)) (cc 1 3)) (cc -14 4)) (cc -39 5))\n",
    "(+ (+ (+ (+ (+ 0 (cc 10 1)) (cc 6 2)) (cc 1 3)) (cc -14 4)) (cc -39 5))\n",
    "(+ (+ (+ (+ (+ 0 (+ (cc 10 0) (cc 9 1))) (cc 6 2)) (cc 1 3)) (cc -14 4)) (cc -39 5))\n",
    "...\n",
    "(+ (+ (+ (+ (+ 0 (+ ... (+ (cc 1 0) (cc 0 1)) ... )) (cc 6 2)) (cc 1 3)) (cc -14 4)) (cc -39 5))\n",
    "(+ (+ (+ (+ (+ 0 (+ ... (+ 0 1) ... )) (cc 6 2)) (cc 1 3)) (cc -14 4)) (cc -39 5))\n",
    "(+ (+ (+ (+ (+ 0 (+ ... (+ 0 1) ... )) (+ (cc 6 1) (+ cc 1 2))) (cc 1 3)) (cc -14 4)) (cc -39 5))\n",
    "...\n",
    "4\n",
    "```\n",
    "\n",
    "We can verify the call tree by printing it."
   ]
  },
  {
   "cell_type": "code",
   "execution_count": 24,
   "id": "86a661be-dae8-440d-9291-6f7c8d893ba5",
   "metadata": {},
   "outputs": [],
   "source": [
    "(define (print-tup a b)\n",
    "    (display \"(\")\n",
    "    (display a)\n",
    "    (display \", \")\n",
    "    (display b)\n",
    "    (display \")\"))"
   ]
  },
  {
   "cell_type": "code",
   "execution_count": 25,
   "id": "47fb1885-cfd0-47d0-a283-2b46357a0769",
   "metadata": {},
   "outputs": [
    {
     "name": "stdout",
     "output_type": "stream",
     "text": [
      "(11, 5)(11, 4)(11, 3)(11, 2)(11, 1)(11, 0)(10, 1)(10, 0)(9, 1)(9, 0)(8, 1)(8, 0)(7, 1)(7, 0)(6, 1)(6, 0)(5, 1)(5, 0)(4, 1)(4, 0)(3, 1)(3, 0)(2, 1)(2, 0)(1, 1)(1, 0)(0, 1)(6, 2)(6, 1)(6, 0)(5, 1)(5, 0)(4, 1)(4, 0)(3, 1)(3, 0)(2, 1)(2, 0)(1, 1)(1, 0)(0, 1)(1, 2)(1, 1)(1, 0)(0, 1)(-4, 2)(1, 3)(1, 2)(1, 1)(1, 0)(0, 1)(-4, 2)(-9, 3)(-14, 4)(-39, 5)"
     ]
    },
    {
     "data": {
      "text/html": [
       "<code>4</code>"
      ],
      "text/plain": [
       "4"
      ]
     },
     "execution_count": 25,
     "metadata": {},
     "output_type": "execute_result"
    }
   ],
   "source": [
    "(define (count-change amount) (cc amount 5))\n",
    "(define (cc amount kinds-of-coins)\n",
    "    (print-tup (number->string amount) (number->string kinds-of-coins))\n",
    "    (cond ((= amount 0) 1)\n",
    "          ((or (< amount 0) (= kinds-of-coins 0)) 0) \n",
    "           (else (+ (cc amount (- kinds-of-coins 1))\n",
    "                    (cc (- amount (first-denomination kinds-of-coins)) kinds-of-coins)))))\n",
    "(define (first-denomination kinds-of-coins)\n",
    "    (cond ((= kinds-of-coins 1) 1) \n",
    "          ((= kinds-of-coins 2) 5)\n",
    "          ((= kinds-of-coins 3) 10)\n",
    "          ((= kinds-of-coins 4) 25)\n",
    "          ((= kinds-of-coins 5) 50)))\n",
    "\n",
    "(count-change 11)"
   ]
  },
  {
   "cell_type": "markdown",
   "id": "5744f87a-5f92-4020-b470-3739afda2261",
   "metadata": {},
   "source": [
    "Let $T(n, k)$ denote the number of operations needed to make change for $n$ cents using our smallest $k$ denominations.\n",
    "\n",
    "Space: $\\Theta(n)$ since we are effectively doing a post-order traversal of the call tree which has depth $n$ (from using the smallest denomination).\n",
    "\n",
    "Time: $\\Theta(n^k)$.\n",
    "\n",
    "For time, $T(n, 1) = 2n + 1$ since we make calls `cc(n, 1), cc(n-1, 1), ..., cc(0, 1)` and `cc(n, 0), cc(n-1, 0), ..., cc(1, 0)`.\n",
    "\n",
    "$T(n, 2)$ makes \"use nickels\" calls $k=\\lceil n/5 \\rceil + 1$ times `cc(n, 2), cc(n-5, 2), ..., cc(n-5(k-1), 2)`. Each of these $k-1$ calls `cc(i, 2)` (we exclude `cc(n-5(k-1), 2)` which ran out of money) subsequently generates $T(i, 1)$ calls that try to use only pennies.\n",
    "\n",
    "Thus\n",
    "$$\n",
    "\\begin{align}\n",
    "T(n, 2) &= \\sum_{j=0}^{k-2} T(n-5j, 1) + 1 \\\\\n",
    "&= \\sum_{j=0}^{k-2} (2(n-5j)+1) + 1 \\\\\n",
    "&= 1 + (k-1) + \\sum_{j=0}^{k-2} 2n - \\sum_{j=0}^{k-2} 10j \\\\\n",
    "&= 1 + \\lceil n/5 \\rceil + 2n(\\lceil n/5 \\rceil) - 10(\\lceil n/5 \\rceil - 1)(\\lceil n/5 \\rceil)/2 \\\\\n",
    "&= \\Theta(n^2)\n",
    "\\end{align}\n",
    "$$.\n",
    "\n",
    "Similarly, $T(n, 3)$ makes \"use dimes\" calls $\\Theta(n/10)$ times that each make $T(i, 2) = \\Theta(n^2)$ further calls.\n",
    "\n",
    "So $T(n, 3) = \\Theta(n^3)$ and $T(n, k) = \\Theta(n^k)$ in general.\n"
   ]
  },
  {
   "cell_type": "markdown",
   "id": "6d647744-f505-470b-b91e-2ab67443e0a5",
   "metadata": {},
   "source": [
    "## Q1.15"
   ]
  },
  {
   "cell_type": "code",
   "execution_count": 26,
   "id": "d7bcd098-98cf-4ed3-8fd1-ad53fde1e7d7",
   "metadata": {},
   "outputs": [
    {
     "name": "stdout",
     "output_type": "stream",
     "text": [
      "12.15\n",
      "4.05\n",
      "1.3499999999999999\n",
      "0.44999999999999996\n",
      "0.15\n"
     ]
    },
    {
     "data": {
      "text/html": [
       "<code>-0.39980345741334</code>"
      ],
      "text/plain": [
       "-0.39980345741334"
      ]
     },
     "execution_count": 26,
     "metadata": {},
     "output_type": "execute_result"
    }
   ],
   "source": [
    "(define (cube x) (* x x x))\n",
    "(define (p x)\n",
    "    (- (* 3 x) (* 4 (cube x))))\n",
    "(define (sine angle)\n",
    "    (if (not (> (abs angle) 0.1))\n",
    "        angle\n",
    "        (and\n",
    "            (display angle) (newline)\n",
    "            (p (sine (/ angle 3.0))))))\n",
    "\n",
    "(sine 12.15)"
   ]
  },
  {
   "cell_type": "markdown",
   "id": "e5b3909e-d05f-4546-992e-a3da5fa25475",
   "metadata": {},
   "source": [
    "`p` is applied 5 times.\n",
    "\n",
    "Each iteration divides the angle $a$ by 3 until $a \\le 0.1$, that is, until $\\frac{a}{3^n} \\le 0.1$.\n",
    "\n",
    "This means we need $\\log_{3}{\\frac{a}{0.1}}$ steps and both the time and space grow with $\\Theta(\\log(a))$."
   ]
  },
  {
   "cell_type": "code",
   "execution_count": 27,
   "id": "d262af1e-23aa-4389-bacc-2fcca067508a",
   "metadata": {},
   "outputs": [
    {
     "data": {
      "text/html": [
       "<code>4.369070246428542</code>"
      ],
      "text/plain": [
       "4.369070246428542"
      ]
     },
     "execution_count": 27,
     "metadata": {},
     "output_type": "execute_result"
    }
   ],
   "source": [
    "(define (steps a)\n",
    "  (/ (log (/ a 0.1)) (log 3)))\n",
    "(steps 12.15)"
   ]
  },
  {
   "cell_type": "markdown",
   "id": "3a8d1ad4-4c3e-49cd-a0a9-cfda9a464c4e",
   "metadata": {},
   "source": [
    "## Q1.16"
   ]
  },
  {
   "cell_type": "code",
   "execution_count": 28,
   "id": "75e31af8-4142-4c5e-92f4-8050a65d235a",
   "metadata": {},
   "outputs": [
    {
     "name": "stdout",
     "output_type": "stream",
     "text": [
      "1024\n",
      "65536\n",
      "2147483648\n"
     ]
    }
   ],
   "source": [
    "(define (fast-expt b n)\n",
    "    (define (fe b n acc)\n",
    "        (cond ((= n 0) acc)\n",
    "              ((even? n) (fe (* b b) (/ n 2) acc))\n",
    "              (else (fe b (- n 1) (* acc b)))))\n",
    "    (fe b n 1))\n",
    "\n",
    "(display (fast-expt 2 10)) (newline)\n",
    "(display (fast-expt 2 16)) (newline)\n",
    "(display (fast-expt 2 31)) (newline)"
   ]
  },
  {
   "cell_type": "markdown",
   "id": "986019a6-2578-4c70-8c80-0c385ad9893b",
   "metadata": {},
   "source": [
    "## Q1.17"
   ]
  },
  {
   "cell_type": "code",
   "execution_count": 29,
   "id": "f73a9958-1bfe-4606-8268-390dee5d1d56",
   "metadata": {},
   "outputs": [
    {
     "name": "stdout",
     "output_type": "stream",
     "text": [
      "21\n",
      "60\n"
     ]
    }
   ],
   "source": [
    "(define (double x) (* x 2))\n",
    "(define (half x) (/ x 2))\n",
    "(define (mul a b)\n",
    "    (cond ((= b 0) 0)\n",
    "          ((even? b) (mul (double a) (half b)))\n",
    "          (else (+ a (mul a (- b 1))))))\n",
    "\n",
    "(display (mul 3 7)) (newline)\n",
    "(display (mul 3 20)) (newline)"
   ]
  },
  {
   "cell_type": "markdown",
   "id": "27d31c4b-e62d-4f3c-9af3-aada4ed8f3f0",
   "metadata": {},
   "source": [
    "## Q1.18"
   ]
  },
  {
   "cell_type": "code",
   "execution_count": 30,
   "id": "976f54b9-436a-4332-aeea-44175366295a",
   "metadata": {},
   "outputs": [
    {
     "name": "stdout",
     "output_type": "stream",
     "text": [
      "21\n",
      "60\n"
     ]
    }
   ],
   "source": [
    "(define (double x) (* x 2))\n",
    "(define (half x) (/ x 2))\n",
    "(define (mul a b)\n",
    "    (define (mul-it a b acc)\n",
    "        (cond ((= b 0) acc)\n",
    "              ((even? b) (mul-it (double a) (half b) acc))\n",
    "              (else (mul-it a (- b 1) (+ acc a)))))\n",
    "    (mul-it a b 0))\n",
    "\n",
    "(display (mul 3 7)) (newline)\n",
    "(display (mul 3 20)) (newline)"
   ]
  },
  {
   "cell_type": "markdown",
   "id": "134d684e-7896-41a9-828b-0e6492fc15d0",
   "metadata": {},
   "source": [
    "## Q1.19"
   ]
  },
  {
   "cell_type": "markdown",
   "id": "19e4a754-4360-44ed-bc32-ccfdaf6953a5",
   "metadata": {},
   "source": [
    "We are basically saying that\n",
    "$\n",
    "T_{pq} =\n",
    "\\begin{bmatrix}\n",
    "q+p & q \\\\\n",
    "q     & p\n",
    "\\end{bmatrix}\n",
    "$\n",
    "such that\n",
    "$\n",
    "T_{pq}\n",
    "\\begin{bmatrix}\n",
    "a \\\\\n",
    "b\n",
    "\\end{bmatrix}\n",
    "=\n",
    "\\begin{bmatrix}\n",
    "qa+pq+qb \\\\\n",
    "qa+pb\n",
    "\\end{bmatrix}\n",
    "$.\n",
    "\n",
    "Thus\n",
    "$\n",
    "T_{pq}^2 =\n",
    "\\begin{bmatrix}\n",
    "(q+p)^2+q^2 & q(q+p)+qp \\\\\n",
    "q(q+p)+qp   & q^2+p^2\n",
    "\\end{bmatrix}\n",
    "=\n",
    "\\begin{bmatrix}\n",
    "(q^2+2pq)+(q^2+p^2) & (q^2+2pq) \\\\\n",
    "(q^2+2pq)           & (q^2+p^2)\n",
    "\\end{bmatrix}\n",
    "=\n",
    "\\begin{bmatrix}\n",
    "q'+p' & q' \\\\\n",
    "q'    & p'\n",
    "\\end{bmatrix}\n",
    "$."
   ]
  },
  {
   "cell_type": "code",
   "execution_count": 31,
   "id": "3ca6f1b0-52c5-450a-924c-2597a4f70a09",
   "metadata": {},
   "outputs": [
    {
     "name": "stdout",
     "output_type": "stream",
     "text": [
      "3\n",
      "5\n",
      "8\n",
      "6765\n"
     ]
    }
   ],
   "source": [
    "(define (fib n)\n",
    "    (fib-iter 1 0 0 1 n))\n",
    "(define (fib-iter a b p q count)\n",
    "    (cond ((= count 0) b)\n",
    "          ((even? count)\n",
    "           (fib-iter a\n",
    "                     b\n",
    "                     (+ (* q q) (* p p))\n",
    "                     (+ (* q q) (* 2 p q))\n",
    "                     (/ count 2)))\n",
    "          (else (fib-iter (+ (* b q) (* a q) (* a p))\n",
    "                          (+ (* b p) (* a q))\n",
    "                          p\n",
    "                          q\n",
    "                          (- count 1)))))\n",
    "          \n",
    "(display (fib 4)) (newline)\n",
    "(display (fib 5)) (newline)\n",
    "(display (fib 6)) (newline)\n",
    "(display (fib 20)) (newline)"
   ]
  },
  {
   "cell_type": "code",
   "execution_count": 32,
   "id": "3189e99e-77c8-4f72-a763-ce94dade7020",
   "metadata": {},
   "outputs": [
    {
     "name": "stdout",
     "output_type": "stream",
     "text": [
      "3.0000000000000004\n",
      "5.000000000000001\n",
      "8.000000000000002\n",
      "6765.000000000005\n"
     ]
    }
   ],
   "source": [
    "(define sqrt5 (expt 5 0.5))\n",
    "(define phi (/ (+ 1 sqrt5) 2))\n",
    "(define psi (/ (- 1 sqrt5) 2))\n",
    "(define (fib-check n)\n",
    "    (/ (- (expt phi n) (expt psi n)) sqrt5))\n",
    "\n",
    "(display (fib-check 4)) (newline)\n",
    "(display (fib-check 5)) (newline)\n",
    "(display (fib-check 6)) (newline)\n",
    "(display (fib-check 20)) (newline)"
   ]
  },
  {
   "cell_type": "markdown",
   "id": "036b8e07-949b-46f8-9a9d-18ff20b11f15",
   "metadata": {},
   "source": [
    "## Q1.20"
   ]
  },
  {
   "cell_type": "code",
   "execution_count": 33,
   "id": "2b2466cf-96a4-4ba3-9650-822dac9ae4bf",
   "metadata": {},
   "outputs": [
    {
     "data": {
      "text/html": [
       "<code>3</code>"
      ],
      "text/plain": [
       "3"
      ]
     },
     "execution_count": 33,
     "metadata": {},
     "output_type": "execute_result"
    }
   ],
   "source": [
    "(define (gcd a b)\n",
    "    (if (= b 0)\n",
    "        a\n",
    "        (gcd b (remainder a b))))\n",
    "\n",
    "(gcd 9 6)"
   ]
  },
  {
   "cell_type": "markdown",
   "id": "396cf17a-0890-45c0-aab9-d13e915819a3",
   "metadata": {},
   "source": [
    "Applicative-order:\n",
    "```scheme\n",
    "(gcd 206 40)\n",
    "(gcd 40 (remainder 206 40))\n",
    "(gcd 40 6)\n",
    "(gcd 6 (remainder 40 6))\n",
    "(gcd 6 4)\n",
    "(gcd 4 (remainder 6 4))\n",
    "(gcd 4 2)\n",
    "(gcd 2 (remainder 4 2))\n",
    "(gcd 2 0)\n",
    "2\n",
    "```\n",
    "4 calls to `remainder`."
   ]
  },
  {
   "cell_type": "markdown",
   "id": "a6161c1d-a9db-47dc-b6ce-c7941998e06e",
   "metadata": {},
   "source": [
    "Normal-order:\n",
    "```scheme\n",
    "(gcd 206 40)\n",
    "(if (= 40 0)  ; #f\n",
    "    206  ; not evaluated\n",
    "    (gcd 40 (remainder 206 40)))\n",
    "(gcd 40 (remainder 206 40))  ; #f\n",
    "(if (= (gcd 40 (remainder 206 40)) 0)\n",
    "    40  ; not evaluated\n",
    "    (gcd\n",
    "        (gcd 40 (remainder 206 40))\n",
    "        (remainder\n",
    "            40\n",
    "            (gcd 40 (remainder 206 40))))\n",
    "...\n",
    "(if (= b' 0)  ; #t\n",
    "    a'   ; evaluated\n",
    "    b')\n",
    "```\n",
    "\n",
    "In normal-order evaluation, `remainder` primarily gets evaluated when substituting `b` in `gcd`'s `(if (= b 0))` check. This continues until the remainder is 0 whereupon we evaluate any `remainder` instances in the `a` branch of the if-statement.\n",
    "\n",
    "In each step of the Euclidean algorithm, we set `b' = (remainder a b)`, `a' = b` and call `(gcd a' b')`.\n",
    "\n",
    "Denote the number of `remainder` calls in the $i$th iteration `b` as $c(b_i)$. We start with $c(b_0) = c(a_0) = 0$.\n",
    "\n",
    "We can see from our update rule that $c(b_{i+1}) = 1 + c(a_i) + c(b_i)$ and $c(a_{i+1}) = c(b_i)$.\n",
    "\n",
    "After $i$ steps, we will have made $c(a_i) + \\sum_{j=0}^i c(b_j)$ = $c(b_{i-1}) + \\sum_{j=0}^i c(b_j)$ calls in total.\n",
    "\n",
    "The first terms of $c(a_i)$ are 0, 0, 1, 2, 4.\n",
    "\n",
    "The first terms of $c(b_i)$ are 0, 1, 2, 4, 7.\n",
    "\n",
    "So we make 1+2+4+7+4 = 18 calls to `remainder`."
   ]
  },
  {
   "cell_type": "markdown",
   "id": "999e627f-2b2e-4d07-b351-9b3be3adc3be",
   "metadata": {},
   "source": [
    "**Aside:** since $c(b_{i})$ is a linear recurrence relation, we can solve it using standard methods. We homogenize it as $c(b_{i}) = 2c(b_{i-1}) - c(b_{i-3})$ and find that $c(b_{t}) = k_1 \\lambda_1^t + k_2 \\lambda_2^t + k_3 \\lambda_3^t$ with $\\lambda_1 = 1$, $\\lambda_2 = \\phi = (1+\\sqrt{5})/2$, and $\\lambda_3 = \\psi = (1-\\sqrt{5})/2$.\n",
    "\n",
    "Using our initial conditions, we find that $k_1 = 1$, $k_2 = \\frac{\\sqrt{5}+1}{2\\sqrt{5}}$, and $k_3 = \\frac{\\sqrt{5}-1}{2\\sqrt{5}}$.\n",
    "\n",
    "Now we can compute our partial sums $\\sum_{j=0}^i c(b_j) = k_1 \\sum_{j=1}^{i+1} \\lambda_1^j + k_2 \\sum_{j=1}^{i+1} \\lambda_2^j + k_3 \\sum_{j=1}^{i+1} \\lambda_3^j$ without recurrence by using the formula $\\sum_{i=0}^{n-1} r^i = \\frac{1-r^n}{1-r}$ for $r \\ne 1$.\n",
    "\n",
    "Maybe there's an easier way...I tried putting the recurrence in matrix form and using the formula for a partial Neumann series but that involved inverting a singular matrix."
   ]
  },
  {
   "cell_type": "code",
   "execution_count": 34,
   "id": "1814de40-5734-4e34-a620-eb6ccc991206",
   "metadata": {},
   "outputs": [
    {
     "name": "stdout",
     "output_type": "stream",
     "text": [
      "first c(b_i) terms:\n",
      "-1.3877787807814457e-16\n",
      "0.9999999999999999\n",
      "2.0\n",
      "4.0\n",
      "7.000000000000002\n",
      "\n",
      "first c(b_i) sums:\n",
      "-1.3877787807814457e-16\n",
      "0.9999999999999998\n",
      "3.0\n",
      "7.000000000000002\n",
      "14.000000000000002\n",
      "\n",
      "number of remainder calls:\n",
      "18.0"
     ]
    }
   ],
   "source": [
    "(define sqrt5 (expt 5 0.5))\n",
    "(define phi (/ (+ 1 sqrt5) 2))\n",
    "(define psi (/ (- 1 sqrt5) 2))\n",
    "(define k1 -1)\n",
    "(define k2 (/ (+ sqrt5 1) (* 2 sqrt5)))\n",
    "(define k3 (/ (- sqrt5 1) (* 2 sqrt5)))\n",
    "(define (geom-sum r n)\n",
    "    ;; geometric sum of r^i for i={0..(n-1)}, need r != 1\n",
    "    (/ (- 1 (expt r n))\n",
    "       (- 1 r)))\n",
    "\n",
    "(define (bterm n)\n",
    "    ;; element c(b_n)\n",
    "    (+ (* k1 1)\n",
    "       (* k2 (expt phi (+ n 1)))\n",
    "       (* k3 (expt psi (+ n 1)))))\n",
    "\n",
    "(define (bsum n)\n",
    "    ;; sum of c(b_i) for i={0..n}\n",
    "    (+ (* k1 (+ n 2))\n",
    "       (* k2 (geom-sum phi (+ n 2)))\n",
    "       (* k3 (geom-sum psi (+ n 2)))))\n",
    "\n",
    "(display \"first c(b_i) terms:\") (newline)\n",
    "(display (bterm 0)) (newline)\n",
    "(display (bterm 1)) (newline)\n",
    "(display (bterm 2)) (newline)\n",
    "(display (bterm 3)) (newline)\n",
    "(display (bterm 4)) (newline)\n",
    "(newline)\n",
    "(display \"first c(b_i) sums:\") (newline)\n",
    "(display (bsum 0)) (newline)\n",
    "(display (bsum 1)) (newline)\n",
    "(display (bsum 2)) (newline)\n",
    "(display (bsum 3)) (newline)\n",
    "(display (bsum 4)) (newline)\n",
    "(newline)\n",
    "(display \"number of remainder calls:\") (newline)\n",
    "(display (+ (bsum 4) (bterm 3)))"
   ]
  },
  {
   "cell_type": "markdown",
   "id": "ff3887c1-b600-41f4-b64d-7b79da326a57",
   "metadata": {},
   "source": [
    "## Q1.21"
   ]
  },
  {
   "cell_type": "code",
   "execution_count": 35,
   "id": "a310b579-1aa3-4b68-bdac-cbf42c8157ed",
   "metadata": {},
   "outputs": [
    {
     "name": "stdout",
     "output_type": "stream",
     "text": [
      "199\n",
      "1999\n",
      "7\n"
     ]
    }
   ],
   "source": [
    "(define (square x) (* x x))\n",
    "(define (smallest-divisor n) (find-divisor n 2))\n",
    "(define (find-divisor n test-divisor)\n",
    "    (cond ((> (square test-divisor) n) n)\n",
    "          ((divides? test-divisor n) test-divisor)\n",
    "          (else (find-divisor n (+ test-divisor 1)))))\n",
    "(define (divides? a b) (= (remainder b a) 0))\n",
    "\n",
    "(display (smallest-divisor 199)) (newline)\n",
    "(display (smallest-divisor 1999)) (newline)\n",
    "(display (smallest-divisor 19999)) (newline)"
   ]
  },
  {
   "cell_type": "markdown",
   "id": "541e31eb-9d68-4290-8c5e-ac3a0f1efe1f",
   "metadata": {},
   "source": [
    "## Q1.22"
   ]
  },
  {
   "cell_type": "code",
   "execution_count": 36,
   "id": "c9c18f46-9a70-4acf-8db0-2ab5aaad2818",
   "metadata": {},
   "outputs": [
    {
     "name": "stdout",
     "output_type": "stream",
     "text": [
      "\n",
      "1001\n",
      "1003\n",
      "1005\n",
      "1007\n",
      "1009 *** 0\n",
      "1011\n",
      "1013 *** 0\n",
      "1015\n",
      "1017\n",
      "1019 *** 1\n",
      "Done\n",
      "\n",
      "10001\n",
      "10003\n",
      "10005\n",
      "10007 *** 2\n",
      "10009 *** 1\n",
      "10011\n",
      "10013\n",
      "10015\n",
      "10017\n",
      "10019\n",
      "10021\n",
      "10023\n",
      "10025\n",
      "10027\n",
      "10029\n",
      "10031\n",
      "10033\n",
      "10035\n",
      "10037 *** 4\n",
      "Done\n",
      "\n",
      "100001\n",
      "100003 *** 3\n",
      "100005\n",
      "100007\n",
      "100009\n",
      "100011\n",
      "100013\n",
      "100015\n",
      "100017\n",
      "100019 *** 2\n",
      "100021\n",
      "100023\n",
      "100025\n",
      "100027\n",
      "100029\n",
      "100031\n",
      "100033\n",
      "100035\n",
      "100037\n",
      "100039\n",
      "100041\n",
      "100043 *** 2\n",
      "Done\n",
      "\n",
      "1000001\n",
      "1000003 *** 8\n",
      "1000005\n",
      "1000007\n",
      "1000009\n",
      "1000011\n",
      "1000013\n",
      "1000015\n",
      "1000017\n",
      "1000019\n",
      "1000021\n",
      "1000023\n",
      "1000025\n",
      "1000027\n",
      "1000029\n",
      "1000031\n",
      "1000033 *** 7\n",
      "1000035\n",
      "1000037 *** 7\n",
      "Done\n",
      "\n",
      "100000001\n",
      "100000003\n",
      "100000005\n",
      "100000007 *** 63\n",
      "100000009\n",
      "100000011\n",
      "100000013\n",
      "100000015\n",
      "100000017\n",
      "100000019\n",
      "100000021\n",
      "100000023\n",
      "100000025\n",
      "100000027\n",
      "100000029\n",
      "100000031\n",
      "100000033\n",
      "100000035\n",
      "100000037 *** 662\n",
      "100000039 *** 71\n",
      "Done\n",
      "\n",
      "1000000001\n",
      "1000000003\n",
      "1000000005\n",
      "1000000007 *** 843\n",
      "1000000009 *** 748\n",
      "1000000011\n",
      "1000000013\n",
      "1000000015\n",
      "1000000017\n",
      "1000000019\n",
      "1000000021 *** 775\n",
      "Done\n"
     ]
    }
   ],
   "source": [
    "(define (prime? n)\n",
    "    (= n (smallest-divisor n)))\n",
    "(define (timed-prime-test? n)\n",
    "    (newline)\n",
    "    (display n)\n",
    "    (start-prime-test? n (runtime)))\n",
    "(define (start-prime-test? n start-time)\n",
    "    (if (prime? n)\n",
    "        (report-prime? (- (runtime) start-time))\n",
    "        #f))\n",
    "(define (report-prime? elapsed-time)\n",
    "    (display \" *** \")\n",
    "    (display elapsed-time)\n",
    "    #t)\n",
    "\n",
    "(define (search-for-primes start end target)\n",
    "    (define (sfp-it curr end target)\n",
    "        (cond ((or (> curr end) (= target 0)) (newline) (display \"Done\") (newline))\n",
    "              ((= (remainder curr 2) 0) (sfp-it (+ 1 curr) end target))\n",
    "              (else (if (timed-prime-test? curr)\n",
    "                        (sfp-it (+ 2 curr) end (- target 1))\n",
    "                        (sfp-it (+ 2 curr) end target)))))\n",
    "    (sfp-it start end target))\n",
    "\n",
    "(search-for-primes 1000 1100 3)\n",
    "(search-for-primes 10000 11000 3)\n",
    "(search-for-primes 100000 101000 3)\n",
    "(search-for-primes 1000000 1001000 3)\n",
    "(search-for-primes 100000000 100001000 3)\n",
    "(search-for-primes 1000000000 1000001000 3)"
   ]
  },
  {
   "cell_type": "markdown",
   "id": "17cac6c6-a841-4c00-ae5b-30f47d95a32d",
   "metadata": {},
   "source": [
    "Runtime is noisy but mostly as expected."
   ]
  },
  {
   "cell_type": "markdown",
   "id": "376d9adb-b2a1-4b4d-b4e3-cb39da39909d",
   "metadata": {},
   "source": [
    "## Q1.23"
   ]
  },
  {
   "cell_type": "code",
   "execution_count": 37,
   "id": "5a5d7515-9467-4aad-a111-1ab9c8a8b610",
   "metadata": {},
   "outputs": [
    {
     "name": "stdout",
     "output_type": "stream",
     "text": [
      "\n",
      "1009 *** 1\n",
      "1013 *** 1\n",
      "1019 *** 1\n",
      "10007 *** 1\n",
      "10009 *** 1\n",
      "10037 *** 1\n",
      "100003 *** 3\n",
      "100019 *** 2\n",
      "100043 *** 2\n",
      "1000003 *** 6\n",
      "1000033 *** 8\n",
      "1000037 *** 7\n",
      "100000007 *** 49\n",
      "100000037 *** 53\n",
      "100000039 *** 63\n",
      "1000000007 *** 163\n",
      "1000000009 *** 164\n",
      "1000000021 *** 174"
     ]
    }
   ],
   "source": [
    "(define (next test-divisor)\n",
    "    (if (= test-divisor 2)\n",
    "        3\n",
    "        (+ test-divisor 2)))\n",
    "\n",
    "(define (square x) (* x x))\n",
    "(define (smallest-divisor n) (find-divisor n 2))\n",
    "(define (find-divisor n test-divisor)\n",
    "    (cond ((> (square test-divisor) n) n)\n",
    "          ((divides? test-divisor n) test-divisor)\n",
    "          (else (find-divisor n (next test-divisor)))))\n",
    "(define (divides? a b) (= (remainder b a) 0))\n",
    "(define (prime? n)\n",
    "    (= n (smallest-divisor n)))\n",
    "(define (timed-prime-test n)\n",
    "    (newline)\n",
    "    (display n)\n",
    "    (start-prime-test n (runtime)))\n",
    "(define (start-prime-test n start-time)\n",
    "    (if (prime? n)\n",
    "        (report-prime (- (runtime) start-time))))\n",
    "(define (report-prime elapsed-time)\n",
    "    (display \" *** \")\n",
    "    (display elapsed-time))\n",
    "\n",
    "(timed-prime-test 1009)\n",
    "(timed-prime-test 1013)\n",
    "(timed-prime-test 1019)\n",
    "(timed-prime-test 10007)\n",
    "(timed-prime-test 10009)\n",
    "(timed-prime-test 10037)\n",
    "(timed-prime-test 100003)\n",
    "(timed-prime-test 100019)\n",
    "(timed-prime-test 100043)\n",
    "(timed-prime-test 1000003)\n",
    "(timed-prime-test 1000033)\n",
    "(timed-prime-test 1000037)\n",
    "(timed-prime-test 100000007)\n",
    "(timed-prime-test 100000037)\n",
    "(timed-prime-test 100000039)\n",
    "(timed-prime-test 1000000007)\n",
    "(timed-prime-test 1000000009)\n",
    "(timed-prime-test 1000000021)"
   ]
  },
  {
   "cell_type": "markdown",
   "id": "39c802c2-5180-410d-b99a-256a7b541e26",
   "metadata": {},
   "source": [
    "The results are still noisy but are mostly slower for small numbers. We messed with the component functions so it's hard to tell exactly why; in any case the `(if (= test-divisor 2))` check is not free."
   ]
  },
  {
   "cell_type": "markdown",
   "id": "a5411458-2f53-486f-87f2-296c32efbf77",
   "metadata": {},
   "source": [
    "## Q1.24"
   ]
  },
  {
   "cell_type": "code",
   "execution_count": 38,
   "id": "e76ff027-3f5d-4896-b9fd-b0943cb520d8",
   "metadata": {},
   "outputs": [
    {
     "name": "stdout",
     "output_type": "stream",
     "text": [
      "\n",
      "1009 *** 246\n",
      "1013 *** 437\n",
      "1019 *** 239\n",
      "10007 *** 306\n",
      "10009 *** 416\n",
      "10037 *** 268\n",
      "100003 *** 306\n",
      "100019 *** 513\n",
      "100043 *** 414\n",
      "1000003 *** 452\n",
      "1000033 *** 338\n",
      "1000037 *** 375\n",
      "100000007 *** 767\n",
      "100000037 *** 696\n",
      "100000039 *** 699\n",
      "1000000007 *** 712\n",
      "1000000009 *** 743\n",
      "1000000021 *** 698"
     ]
    }
   ],
   "source": [
    "(define (square x) (* x x))\n",
    "(define (expmod base exp m)\n",
    "    (cond ((= exp 0) 1)\n",
    "          ((even? exp)\n",
    "           (remainder\n",
    "                (square (expmod base (/ exp 2) m))\n",
    "                m))\n",
    "          (else\n",
    "             (remainder\n",
    "                (* base (expmod base (- exp 1) m))\n",
    "                m))))\n",
    "(define (fermat-test n)\n",
    "    (define (try-it a)\n",
    "        (= (expmod a n n) a))\n",
    "    (try-it (+ 1 (random (- n 1)))))\n",
    "(define (fast-prime? n times)\n",
    "    (cond ((= times 0) true)\n",
    "          ((fermat-test n) (fast-prime? n (- times 1)))\n",
    "          (else false)))\n",
    "(define (prime? n)\n",
    "    (fast-prime? n 1000))\n",
    "(define (timed-prime-test n)\n",
    "    (newline)\n",
    "    (display n)\n",
    "    (start-prime-test n (runtime)))\n",
    "(define (start-prime-test n start-time)\n",
    "    (if (prime? n)\n",
    "        (report-prime (- (runtime) start-time))))\n",
    "(define (report-prime elapsed-time)\n",
    "    (display \" *** \")\n",
    "    (display elapsed-time))\n",
    "\n",
    "(timed-prime-test 1009)\n",
    "(timed-prime-test 1013)\n",
    "(timed-prime-test 1019)\n",
    "(timed-prime-test 10007)\n",
    "(timed-prime-test 10009)\n",
    "(timed-prime-test 10037)\n",
    "(timed-prime-test 100003)\n",
    "(timed-prime-test 100019)\n",
    "(timed-prime-test 100043)\n",
    "(timed-prime-test 1000003)\n",
    "(timed-prime-test 1000033)\n",
    "(timed-prime-test 1000037)\n",
    "(timed-prime-test 100000007)\n",
    "(timed-prime-test 100000037)\n",
    "(timed-prime-test 100000039)\n",
    "(timed-prime-test 1000000007)\n",
    "(timed-prime-test 1000000009)\n",
    "(timed-prime-test 1000000021)"
   ]
  },
  {
   "cell_type": "markdown",
   "id": "6e04494b-c5c7-40b1-aa36-08c8a87b58a8",
   "metadata": {},
   "source": [
    "We expect logarithmic growth but don't really see it (I'm okay with this)."
   ]
  },
  {
   "cell_type": "markdown",
   "id": "370fbd22-8011-4a0e-b002-85585003a371",
   "metadata": {},
   "source": [
    "## Q1.25"
   ]
  },
  {
   "cell_type": "markdown",
   "id": "b1b5b5bc-4943-47ee-8415-622f25be3669",
   "metadata": {},
   "source": [
    "This still works but is not as performant since it fully computes $a^n$ before taking the remainder. The original version takes remainders after multiplying by each factor so it deals with much smaller numbers."
   ]
  },
  {
   "cell_type": "markdown",
   "id": "29f5120a-0299-4227-aee5-4c6c2bae1da2",
   "metadata": {},
   "source": [
    "## Q1.26"
   ]
  },
  {
   "cell_type": "markdown",
   "id": "9a06ab53-b627-4fd8-ac94-e7d2414ae87a",
   "metadata": {},
   "source": [
    "`expmod` is $\\Theta(\\log(n))$ because it uses $\\log(n)$ successive squarings to compute $a^n$. By doubling the amount of work at each squaring, we end up doing $2^{\\log(n)} = \\Theta(n)$ operations.\n",
    "\n",
    "Another way to see this is that expanding the call graph in Louis's code results in an expression that's equivalent to multiplying $a$ by itself $n$ times, i.e. a naive $\\Theta(n)$ computation of $a^n$."
   ]
  },
  {
   "cell_type": "markdown",
   "id": "00bd7343-2bdf-482b-b331-704f76bfffa6",
   "metadata": {},
   "source": [
    "## Q1.27"
   ]
  },
  {
   "cell_type": "code",
   "execution_count": 39,
   "id": "2ef1d339-cb29-4d90-9f59-bdf5a834135a",
   "metadata": {},
   "outputs": [
    {
     "name": "stdout",
     "output_type": "stream",
     "text": [
      "\n",
      "555\n",
      "560\n",
      "561 *** 73\n",
      "1105 *** 142\n",
      "1729 *** 225\n",
      "2465 *** 545\n",
      "2821 *** 462\n",
      "6601 *** 1657"
     ]
    }
   ],
   "source": [
    "(define (square x) (* x x))\n",
    "(define (expmod base exp m)\n",
    "    (cond ((= exp 0) 1)\n",
    "          ((even? exp)\n",
    "           (remainder\n",
    "                (square (expmod base (/ exp 2) m))\n",
    "                m))\n",
    "          (else\n",
    "             (remainder\n",
    "                (* base (expmod base (- exp 1) m))\n",
    "                m))))\n",
    "(define (fermat-test n candidate)\n",
    "    (define (try-it a)\n",
    "        (= (expmod a n n) a))\n",
    "    (try-it candidate))\n",
    "(define (fast-prime? n candidate)\n",
    "    (cond ((= candidate n) true)\n",
    "          ((fermat-test n candidate) (fast-prime? n (+ candidate 1)))\n",
    "          (else false)))\n",
    "(define (prime? n)\n",
    "    (fast-prime? n 2))\n",
    "(define (timed-prime-test n)\n",
    "    (newline)\n",
    "    (display n)\n",
    "    (start-prime-test n (runtime)))\n",
    "(define (start-prime-test n start-time)\n",
    "    (if (prime? n)\n",
    "        (report-prime (- (runtime) start-time))))\n",
    "(define (report-prime elapsed-time)\n",
    "    (display \" *** \")\n",
    "    (display elapsed-time))\n",
    "\n",
    "(timed-prime-test 555)\n",
    "(timed-prime-test 560)\n",
    ";; Carmichael below\n",
    "(timed-prime-test 561)\n",
    "(timed-prime-test 1105)\n",
    "(timed-prime-test 1729)\n",
    "(timed-prime-test 2465)\n",
    "(timed-prime-test 2821)\n",
    "(timed-prime-test 6601)"
   ]
  },
  {
   "cell_type": "markdown",
   "id": "e4fbbe1f-eda7-4efc-b6b8-fe95360fba94",
   "metadata": {},
   "source": [
    "## Q1.28"
   ]
  },
  {
   "cell_type": "markdown",
   "id": "5dfdc4b7-e7b3-4fe8-9ea9-4c7260814d5b",
   "metadata": {},
   "source": [
    "This solution has rather ugly code and I might have interpreted the \"nontrivial square root\" condition wrong. Based on this [stackoverflow thread](https://stackoverflow.com/questions/55969284/sicp-exercise-1-28-miller-rabin-at-least-half-the-numbers-will-reveal-a-non), the book's original description is also wrong.\n",
    "\n",
    "I don't care enough about Miller-Rabin to dig into it further right now, though."
   ]
  },
  {
   "cell_type": "code",
   "execution_count": 40,
   "id": "488d7972-a57f-480f-b625-51c593af53b9",
   "metadata": {},
   "outputs": [
    {
     "name": "stdout",
     "output_type": "stream",
     "text": [
      "\n",
      "2\n",
      "3 *** 2\n",
      "4\n",
      "10\n",
      "13 *** 2\n",
      "17 *** 2\n",
      "21\n",
      "27\n",
      "37 *** 6\n",
      "1009 *** 108\n",
      "1013 *** 108\n",
      "1019 *** 499\n",
      "10007 *** 1252\n",
      "10009 *** 1170\n",
      "10037 *** 1217\n",
      "560\n",
      "561\n",
      "1105\n",
      "1729\n",
      "2465\n",
      "2821\n",
      "6601"
     ]
    }
   ],
   "source": [
    "(define (square-chk x n)\n",
    "    ;; returns 0 if x is a nontrivial square root of 1 (mod n)\n",
    "    (define square-val (* x x))\n",
    "    (if (and (not (or (= x 1) (= x (- n 1))))\n",
    "             (= 1 (remainder square-val n)))\n",
    "        0\n",
    "        square-val))\n",
    "(define (expmod-chk base exp m)\n",
    "    ;; returns 0 if we find a nontrivial square root of 1 (mod m)\n",
    "    (cond ((= exp 0) 1)\n",
    "          ((even? exp)\n",
    "           (remainder\n",
    "                (square-chk (expmod base (/ exp 2) m) m)\n",
    "                m))\n",
    "          (else\n",
    "             (remainder\n",
    "                (* base (expmod base (- exp 1) m))\n",
    "                m))))\n",
    "(define (fermat-test n candidate)\n",
    "    (define (try-it a)\n",
    "        (= (expmod-chk a (- n 1) n) 1))\n",
    "    (try-it candidate))\n",
    "(define (miller-rabin? n candidate)\n",
    "    (cond ((> candidate (+ (/ n 2) 1)) true)\n",
    "          ((fermat-test n candidate) (miller-rabin? n (+ candidate 1)))\n",
    "          (else false)))\n",
    "(define (prime? n)\n",
    "    (miller-rabin? n 2))\n",
    "(define (timed-prime-test n)\n",
    "    (newline)\n",
    "    (display n)\n",
    "    (start-prime-test n (runtime)))\n",
    "(define (start-prime-test n start-time)\n",
    "    (if (prime? n)\n",
    "        (report-prime (- (runtime) start-time))))\n",
    "(define (report-prime elapsed-time)\n",
    "    (display \" *** \")\n",
    "    (display elapsed-time))\n",
    "\n",
    "(timed-prime-test 2)\n",
    "(timed-prime-test 3)\n",
    "(timed-prime-test 4)\n",
    "(timed-prime-test 10)\n",
    "(timed-prime-test 13)\n",
    "(timed-prime-test 17)\n",
    "(timed-prime-test 21)\n",
    "(timed-prime-test 27)\n",
    "(timed-prime-test 37)\n",
    "(timed-prime-test 1009)\n",
    "(timed-prime-test 1013)\n",
    "(timed-prime-test 1019)\n",
    "(timed-prime-test 10007)\n",
    "(timed-prime-test 10009)\n",
    "(timed-prime-test 10037)\n",
    ";; Carmichael below\n",
    "(timed-prime-test 560)\n",
    "(timed-prime-test 561)\n",
    "(timed-prime-test 1105)\n",
    "(timed-prime-test 1729)\n",
    "(timed-prime-test 2465)\n",
    "(timed-prime-test 2821)\n",
    "(timed-prime-test 6601)"
   ]
  }
 ],
 "metadata": {
  "kernelspec": {
   "display_name": "Racket",
   "language": "racket",
   "name": "racket"
  },
  "language_info": {
   "codemirror_mode": "scheme",
   "file_extension": ".rkt",
   "mimetype": "text/x-racket",
   "name": "Racket",
   "pygments_lexer": "racket",
   "version": "8.9"
  }
 },
 "nbformat": 4,
 "nbformat_minor": 5
}
